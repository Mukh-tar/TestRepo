{
 "cells": [
  {
   "cell_type": "markdown",
   "id": "9766ceed-968f-4ad7-b527-6abda58ca1bb",
   "metadata": {},
   "source": [
    "# Data Science Tools And Ecosystem"
   ]
  },
  {
   "cell_type": "markdown",
   "id": "36f33c81-d739-47a1-b519-6a054346b4f9",
   "metadata": {},
   "source": [
    "In this notebook, Data Science Tools and Ecosystem are summarized."
   ]
  },
  {
   "cell_type": "markdown",
   "id": "3489e47f-5751-4ad8-9ffb-7816a83eef28",
   "metadata": {},
   "source": [
    "**Objectives:**\n",
    "- Some popular languages in data science.\n",
    "- Commonly used libraries in data science.\n",
    "- Examples evaluating arithmetic expressions in pyhon."
   ]
  },
  {
   "cell_type": "markdown",
   "id": "ced10298-e650-4fbb-8a42-62f40759c7a3",
   "metadata": {},
   "source": [
    "Some of the popular languages that Data Scientists use are:\n",
    "1. Python\n",
    "2. R language\n",
    "3. Structured Query Language (SQL)"
   ]
  },
  {
   "cell_type": "markdown",
   "id": "7a5cc7d3-2f6d-4b9c-a55a-2307ac6691cf",
   "metadata": {},
   "source": [
    "Some of the commonly used libraries used by Data Scientists include:\n",
    "1. Pandas\n",
    "2. NumPy\n",
    "3. Matplotlib\n",
    "4. Seaborn"
   ]
  },
  {
   "cell_type": "markdown",
   "id": "408bc99a-45fa-4cdb-a4b6-27475305b4fc",
   "metadata": {},
   "source": [
    "| Data Science Tools |\n",
    "| ------------------ |\n",
    "| Jupyter Notebooks |\n",
    "| IBM watson Studio |\n",
    "| spyder |"
   ]
  },
  {
   "cell_type": "markdown",
   "id": "47d9fe8b-3ec7-4841-a7cd-8f6710e889a2",
   "metadata": {},
   "source": [
    "### Below are a few examples of evaluating arithmetic expressions in Python:\n",
    " Addition\n",
    "result_add = 10 + 5\n",
    "\n",
    " Subtraction\n",
    "result_sub = 15 - 7\n",
    "\n",
    " Multiplication\n",
    "result_mul = 8 * 4"
   ]
  },
  {
   "cell_type": "code",
   "execution_count": 1,
   "id": "d37d2884-21ff-40a9-a93c-d0ad2b819d8e",
   "metadata": {},
   "outputs": [
    {
     "data": {
      "text/plain": [
       "17"
      ]
     },
     "execution_count": 1,
     "metadata": {},
     "output_type": "execute_result"
    }
   ],
   "source": [
    "# This is a simple arithmetic expression to multiply then add integers\n",
    "(3*4)+5"
   ]
  },
  {
   "cell_type": "code",
   "execution_count": 2,
   "id": "ba54846b-5ad1-4eb9-8560-69fb81fd36c5",
   "metadata": {},
   "outputs": [
    {
     "data": {
      "text/plain": [
       "3.3333333333333335"
      ]
     },
     "execution_count": 2,
     "metadata": {},
     "output_type": "execute_result"
    }
   ],
   "source": [
    "# This will convert 200 minutes to hours by diving by 60\n",
    "200/60"
   ]
  },
  {
   "cell_type": "markdown",
   "id": "47866edc-d118-483b-be1f-2429cc120b75",
   "metadata": {},
   "source": [
    "## Author\n",
    "Mukhtar Adepoju"
   ]
  },
  {
   "cell_type": "code",
   "execution_count": null,
   "id": "54b8eef2-0758-45b7-8305-199b1ac26700",
   "metadata": {},
   "outputs": [],
   "source": []
  }
 ],
 "metadata": {
  "kernelspec": {
   "display_name": "Python 3 (ipykernel)",
   "language": "python",
   "name": "python3"
  },
  "language_info": {
   "codemirror_mode": {
    "name": "ipython",
    "version": 3
   },
   "file_extension": ".py",
   "mimetype": "text/x-python",
   "name": "python",
   "nbconvert_exporter": "python",
   "pygments_lexer": "ipython3",
   "version": "3.12.8"
  }
 },
 "nbformat": 4,
 "nbformat_minor": 5
}
